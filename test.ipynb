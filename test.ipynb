{
 "cells": [
  {
   "cell_type": "code",
   "execution_count": 55,
   "metadata": {},
   "outputs": [
    {
     "name": "stderr",
     "output_type": "stream",
     "text": [
      "WARNING:opentelemetry.trace:Overriding of current TracerProvider is not allowed\n",
      "WARNING:opentelemetry._logs._internal:Overriding of current LoggerProvider is not allowed\n",
      "WARNING:opentelemetry.metrics._internal:Overriding of current MeterProvider is not allowed\n",
      "WARNING:opentelemetry.instrumentation.instrumentor:Attempting to instrument while already instrumented\n",
      "WARNING:opentelemetry.instrumentation.instrumentor:Attempting to instrument while already instrumented\n",
      "WARNING:opentelemetry.instrumentation.instrumentor:Attempting to instrument while already instrumented\n"
     ]
    }
   ],
   "source": [
    "from azure.identity import AzureCliCredential\n",
    "\n",
    "credential = AzureCliCredential()\n",
    "from azure.ai.ml import MLClient\n",
    "from azure.identity import AzureCliCredential\n",
    "\n",
    "\n",
    "\n",
    "credential = AzureCliCredential()\n",
    "\n",
    "ml_client = MLClient(\n",
    "    credential=credential,\n",
    "    subscription_id=\"6fab868f-e7ff-4000-b366-b5d0a27cc581\",\n",
    "    resource_group_name=\"iat\",\n",
    "    workspace_name=\"shafi2\"\n",
    ")\n"
   ]
  },
  {
   "cell_type": "code",
   "execution_count": null,
   "metadata": {},
   "outputs": [],
   "source": []
  },
  {
   "cell_type": "code",
   "execution_count": 2,
   "metadata": {},
   "outputs": [
    {
     "name": "stdout",
     "output_type": "stream",
     "text": [
      "Looking in links: http://h2o-release.s3.amazonaws.com/h2o/latest_stable_Py.html\n",
      "Requirement already satisfied: h2o in ./iat/lib/python3.12/site-packages (3.46.0.7)\n",
      "Requirement already satisfied: requests in ./iat/lib/python3.12/site-packages (from h2o) (2.32.3)\n",
      "Requirement already satisfied: tabulate in ./iat/lib/python3.12/site-packages (from h2o) (0.9.0)\n",
      "Requirement already satisfied: charset-normalizer<4,>=2 in ./iat/lib/python3.12/site-packages (from requests->h2o) (3.4.2)\n",
      "Requirement already satisfied: idna<4,>=2.5 in ./iat/lib/python3.12/site-packages (from requests->h2o) (3.10)\n",
      "Requirement already satisfied: urllib3<3,>=1.21.1 in ./iat/lib/python3.12/site-packages (from requests->h2o) (2.4.0)\n",
      "Requirement already satisfied: certifi>=2017.4.17 in ./iat/lib/python3.12/site-packages (from requests->h2o) (2025.4.26)\n",
      "\n",
      "\u001b[1m[\u001b[0m\u001b[34;49mnotice\u001b[0m\u001b[1;39;49m]\u001b[0m\u001b[39;49m A new release of pip is available: \u001b[0m\u001b[31;49m24.2\u001b[0m\u001b[39;49m -> \u001b[0m\u001b[32;49m25.1.1\u001b[0m\n",
      "\u001b[1m[\u001b[0m\u001b[34;49mnotice\u001b[0m\u001b[1;39;49m]\u001b[0m\u001b[39;49m To update, run: \u001b[0m\u001b[32;49mpip install --upgrade pip\u001b[0m\n",
      "Note: you may need to restart the kernel to use updated packages.\n"
     ]
    }
   ],
   "source": [
    "pip install -f http://h2o-release.s3.amazonaws.com/h2o/latest_stable_Py.html h2o\n"
   ]
  },
  {
   "cell_type": "code",
   "execution_count": null,
   "metadata": {},
   "outputs": [],
   "source": [
    "\n",
    "import os\n",
    "import pandas as pd\n",
    "import h2o\n",
    "\n",
    "def init():\n",
    "    import logging\n",
    "    global model\n",
    "\n",
    "    # Initialize H2O\n",
    "    h2o.init()\n",
    "\n",
    "    # Use current directory if AZUREML_MODEL_DIR is not set\n",
    "    model_dir = os.getenv(\"AZUREML_MODEL_DIR\") or \".\"\n",
    "    model_path = os.path.join(model_dir, \"GBM_model_python_1749296476765_1.zip\")\n",
    "\n",
    "    print(\"Loading MOJO model from:\", model_path)\n",
    "\n",
    "    try:\n",
    "        # Load the H2O MOJO model\n",
    "        model = h2o.import_mojo(model_path)\n",
    "        print(\"Model loaded successfully.\")\n",
    "    except Exception as e:\n",
    "        logging.error(f\"Failed to load H2O MOJO model: {e}\")\n",
    "        raise RuntimeError(\"Model loading failed.\")\n",
    "\n",
    "\n",
    "def run(data):\n",
    "    h2o.init()\n",
    "\n",
    "# Provide your local path where the MOJO zip is stored (simulate AZUREML_MODEL_DIR)\n",
    "    model_dir = os.getenv(\"AZUREML_MODEL_DIR\") or \".\"\n",
    "    model_path = os.path.join(model_dir, \"GBM_model_python_1749296476765_1.zip\")\n",
    "    model = h2o.import_mojo(model_path)\n",
    "\n",
    "    print(\"Loading MOJO model from:\", model_path)\n",
    "    \n",
    "\n",
    "    h2o_test_data = h2o.H2OFrame(data)\n",
    "    predictions = model.predict(h2o_test_data)\n",
    "    return predictions"
   ]
  },
  {
   "cell_type": "code",
   "execution_count": 46,
   "metadata": {},
   "outputs": [
    {
     "name": "stdout",
     "output_type": "stream",
     "text": [
      "Checking whether there is an H2O instance running at http://localhost:54321. connected.\n",
      "Attempting to start a local H2O server...\n",
      "  Java Version: openjdk version \"23.0.2\" 2025-01-21; OpenJDK Runtime Environment Homebrew (build 23.0.2); OpenJDK 64-Bit Server VM Homebrew (build 23.0.2, mixed mode, sharing)\n",
      "  Starting server from /Users/mdshafiuddin/miniconda3/envs/h2o-mojo-env-v1/lib/python3.9/site-packages/h2o/backend/bin/h2o.jar\n",
      "  Ice root: /var/folders/dg/qkmn114n5zz8qhyh_ywt8cph0000gp/T/tmp2017go65\n",
      "  JVM stdout: /var/folders/dg/qkmn114n5zz8qhyh_ywt8cph0000gp/T/tmp2017go65/h2o_mdshafiuddin_started_from_python.out\n",
      "  JVM stderr: /var/folders/dg/qkmn114n5zz8qhyh_ywt8cph0000gp/T/tmp2017go65/h2o_mdshafiuddin_started_from_python.err\n",
      "  Server is running at http://127.0.0.1:54331\n",
      "Connecting to H2O server at http://127.0.0.1:54331 ... successful.\n",
      "Warning: Your H2O cluster version is (2 years, 3 months and 30 days) old.  There may be a newer version available.\n",
      "Please download and install the latest version from: https://h2o-release.s3.amazonaws.com/h2o/latest_stable.html\n"
     ]
    },
    {
     "data": {
      "text/html": [
       "\n",
       "<style>\n",
       "\n",
       "#h2o-table-5.h2o-container {\n",
       "  overflow-x: auto;\n",
       "}\n",
       "#h2o-table-5 .h2o-table {\n",
       "  /* width: 100%; */\n",
       "  margin-top: 1em;\n",
       "  margin-bottom: 1em;\n",
       "}\n",
       "#h2o-table-5 .h2o-table caption {\n",
       "  white-space: nowrap;\n",
       "  caption-side: top;\n",
       "  text-align: left;\n",
       "  /* margin-left: 1em; */\n",
       "  margin: 0;\n",
       "  font-size: larger;\n",
       "}\n",
       "#h2o-table-5 .h2o-table thead {\n",
       "  white-space: nowrap; \n",
       "  position: sticky;\n",
       "  top: 0;\n",
       "  box-shadow: 0 -1px inset;\n",
       "}\n",
       "#h2o-table-5 .h2o-table tbody {\n",
       "  overflow: auto;\n",
       "}\n",
       "#h2o-table-5 .h2o-table th,\n",
       "#h2o-table-5 .h2o-table td {\n",
       "  text-align: right;\n",
       "  /* border: 1px solid; */\n",
       "}\n",
       "#h2o-table-5 .h2o-table tr:nth-child(even) {\n",
       "  /* background: #F5F5F5 */\n",
       "}\n",
       "\n",
       "</style>      \n",
       "<div id=\"h2o-table-5\" class=\"h2o-container\">\n",
       "  <table class=\"h2o-table\">\n",
       "    <caption></caption>\n",
       "    <thead></thead>\n",
       "    <tbody><tr><td>H2O_cluster_uptime:</td>\n",
       "<td>01 secs</td></tr>\n",
       "<tr><td>H2O_cluster_timezone:</td>\n",
       "<td>Asia/Kolkata</td></tr>\n",
       "<tr><td>H2O_data_parsing_timezone:</td>\n",
       "<td>UTC</td></tr>\n",
       "<tr><td>H2O_cluster_version:</td>\n",
       "<td>3.40.0.1</td></tr>\n",
       "<tr><td>H2O_cluster_version_age:</td>\n",
       "<td>2 years, 3 months and 30 days</td></tr>\n",
       "<tr><td>H2O_cluster_name:</td>\n",
       "<td>H2O_from_python_mdshafiuddin_xynj9d</td></tr>\n",
       "<tr><td>H2O_cluster_total_nodes:</td>\n",
       "<td>1</td></tr>\n",
       "<tr><td>H2O_cluster_free_memory:</td>\n",
       "<td>4.500 Gb</td></tr>\n",
       "<tr><td>H2O_cluster_total_cores:</td>\n",
       "<td>12</td></tr>\n",
       "<tr><td>H2O_cluster_allowed_cores:</td>\n",
       "<td>12</td></tr>\n",
       "<tr><td>H2O_cluster_status:</td>\n",
       "<td>locked, healthy</td></tr>\n",
       "<tr><td>H2O_connection_url:</td>\n",
       "<td>http://127.0.0.1:54331</td></tr>\n",
       "<tr><td>H2O_connection_proxy:</td>\n",
       "<td>{\"http\": null, \"https\": null}</td></tr>\n",
       "<tr><td>H2O_internal_security:</td>\n",
       "<td>False</td></tr>\n",
       "<tr><td>Python_version:</td>\n",
       "<td>3.9.23 final</td></tr></tbody>\n",
       "  </table>\n",
       "</div>\n"
      ],
      "text/plain": [
       "--------------------------  -----------------------------------\n",
       "H2O_cluster_uptime:         01 secs\n",
       "H2O_cluster_timezone:       Asia/Kolkata\n",
       "H2O_data_parsing_timezone:  UTC\n",
       "H2O_cluster_version:        3.40.0.1\n",
       "H2O_cluster_version_age:    2 years, 3 months and 30 days\n",
       "H2O_cluster_name:           H2O_from_python_mdshafiuddin_xynj9d\n",
       "H2O_cluster_total_nodes:    1\n",
       "H2O_cluster_free_memory:    4.500 Gb\n",
       "H2O_cluster_total_cores:    12\n",
       "H2O_cluster_allowed_cores:  12\n",
       "H2O_cluster_status:         locked, healthy\n",
       "H2O_connection_url:         http://127.0.0.1:54331\n",
       "H2O_connection_proxy:       {\"http\": null, \"https\": null}\n",
       "H2O_internal_security:      False\n",
       "Python_version:             3.9.23 final\n",
       "--------------------------  -----------------------------------"
      ]
     },
     "metadata": {},
     "output_type": "display_data"
    },
    {
     "name": "stdout",
     "output_type": "stream",
     "text": [
      "Loading MOJO model from: ./GBM_model_python_1749296476765_1.zip\n",
      "generic Model Build progress: |██████████████████████████████████████████████████| (done) 100%\n",
      "Model loaded successfully.\n",
      "Parse progress: |████████████████████████████████████████████████████████████████| (done) 100%\n",
      "generic prediction progress: |███████████████████████████████████████████████████| (done) 100%\n",
      "[{\"predict\":\"versicolor\",\"setosa\":0.001944083,\"versicolor\":0.9898267126,\"virginica\":0.0082292044}]\n"
     ]
    }
   ],
   "source": [
    "init()\n",
    "sample_input ={\n",
    "  \"data\": [\n",
    "    {\n",
    "      \"sepal_length\": 6.7,\n",
    "      \"sepal_width\": 3.1,\n",
    "      \"petal_length\": 4.7,\n",
    "      \"petal_width\": 1.5\n",
    "    }\n",
    "  ]\n",
    "}\n",
    "\n",
    "# Run inference\n",
    "result = run(sample_input)\n",
    "\n",
    "# Print result\n",
    "print(result)"
   ]
  },
  {
   "cell_type": "code",
   "execution_count": null,
   "metadata": {},
   "outputs": [],
   "source": []
  },
  {
   "cell_type": "code",
   "execution_count": 56,
   "metadata": {},
   "outputs": [
    {
     "data": {
      "text/plain": [
       "Environment({'arm_type': 'environment_version', 'latest_version': None, 'image': 'mcr.microsoft.com/azureml/openmpi4.1.0-ubuntu20.04', 'intellectual_property': None, 'is_anonymous': False, 'auto_increment_version': False, 'auto_delete_setting': None, 'name': 'my-h2o-env-test', 'description': 'Environment with H2O, Azure ML SDK, etc.', 'tags': {}, 'properties': {'azureml.labels': 'latest'}, 'print_as_yaml': False, 'id': '/subscriptions/6fab868f-e7ff-4000-b366-b5d0a27cc581/resourceGroups/iat/providers/Microsoft.MachineLearningServices/workspaces/shafi2/environments/my-h2o-env-test/versions/1', 'Resource__source_path': '', 'base_path': '/Users/mdshafiuddin/Desktop/testiat', 'creation_context': <azure.ai.ml.entities._system_data.SystemData object at 0x1598fd580>, 'serialize': <msrest.serialization.Serializer object at 0x15990adc0>, 'version': '1', 'conda_file': {'channels': ['conda-forge'], 'dependencies': ['python=3.9', 'openjdk=11.0.15', 'pip', 'requests', 'pyyaml', 'pandas', 'typing_extensions', {'pip': ['azureml-core', 'azureml-inference-server-http', 'h2o==3.40.0.1', 'azure-ai-ml==1.27.1', 'azure-core==1.34.0', 'azure-identity==1.23.0', 'azure-storage-blob==12.25.1', 'fsspec']}], 'name': 'h2o-mojo-env-v1'}, 'build': None, 'inference_config': None, 'os_type': 'Linux', 'conda_file_path': None, 'path': None, 'datastore': None, 'upload_hash': None, 'translated_conda_file': '{\\n  \"channels\": [\\n    \"conda-forge\"\\n  ],\\n  \"dependencies\": [\\n    \"python=3.9\",\\n    \"openjdk=11.0.15\",\\n    \"pip\",\\n    \"requests\",\\n    \"pyyaml\",\\n    \"pandas\",\\n    \"typing_extensions\",\\n    {\\n      \"pip\": [\\n        \"azureml-core\",\\n        \"azureml-inference-server-http\",\\n        \"h2o==3.40.0.1\",\\n        \"azure-ai-ml==1.27.1\",\\n        \"azure-core==1.34.0\",\\n        \"azure-identity==1.23.0\",\\n        \"azure-storage-blob==12.25.1\",\\n        \"fsspec\"\\n      ]\\n    }\\n  ],\\n  \"name\": \"h2o-mojo-env-v1\"\\n}'})"
      ]
     },
     "execution_count": 56,
     "metadata": {},
     "output_type": "execute_result"
    }
   ],
   "source": [
    "from azure.ai.ml.entities import Environment\n",
    "env = Environment(\n",
    "    name=\"my-h2o-env-test\",\n",
    "    description=\"Environment with H2O, Azure ML SDK, etc.\",\n",
    "    conda_file=\"conda.yaml\",\n",
    "    image=\"mcr.microsoft.com/azureml/openmpi4.1.0-ubuntu20.04\"  # base image\n",
    ")\n",
    "\n",
    "ml_client.environments.create_or_update(env)\n",
    "\n"
   ]
  },
  {
   "cell_type": "code",
   "execution_count": 59,
   "metadata": {},
   "outputs": [],
   "source": [
    "import uuid\n",
    "\n",
    "# Creating a unique name for the endpoint\n",
    "online_endpoint_name = \"iat-shafi-\" + str(uuid.uuid4())[:8]"
   ]
  },
  {
   "cell_type": "code",
   "execution_count": 61,
   "metadata": {},
   "outputs": [
    {
     "name": "stdout",
     "output_type": "stream",
     "text": [
      "Endpint iat-shafi-f2eeefdd provisioning state: Succeeded\n"
     ]
    }
   ],
   "source": [
    "from azure.ai.ml.entities import (\n",
    "    ManagedOnlineEndpoint,\n",
    "    ManagedOnlineDeployment,\n",
    "    Model,\n",
    "    Environment,\n",
    ")\n",
    "\n",
    "# create an online endpoint\n",
    "endpoint = ManagedOnlineEndpoint(\n",
    "    name=online_endpoint_name,\n",
    "    description=\"this is an online endpoint\",\n",
    "    auth_mode=\"key\",\n",
    "    tags={\n",
    "        \"training_dataset\": \"credit_defaults\",\n",
    "        \"model_type\": \"sklearn.GradientBoostingClassifier\",\n",
    "    },\n",
    ")\n",
    "\n",
    "endpoint_result = ml_client.begin_create_or_update(endpoint).result()\n",
    "\n",
    "print(\n",
    "    f\"Endpint {endpoint_result.name} provisioning state: {endpoint_result.provisioning_state}\"\n",
    ")"
   ]
  },
  {
   "cell_type": "code",
   "execution_count": 62,
   "metadata": {},
   "outputs": [
    {
     "name": "stdout",
     "output_type": "stream",
     "text": [
      "Endpint \"iat-shafi-f2eeefdd\" with provisioning state \"Succeeded\" is retrieved\n"
     ]
    }
   ],
   "source": [
    "endpoint = ml_client.online_endpoints.get(name=online_endpoint_name)\n",
    "\n",
    "print(\n",
    "    f'Endpint \"{endpoint.name}\" with provisioning state \"{endpoint.provisioning_state}\" is retrieved'\n",
    ")"
   ]
  },
  {
   "cell_type": "code",
   "execution_count": 63,
   "metadata": {},
   "outputs": [],
   "source": [
    "from azure.ai.ml.entities import Model\n",
    "\n",
    "\n",
    "model = ml_client.models.get(name=\"iat-shafi\", version=\"1\")"
   ]
  },
  {
   "cell_type": "code",
   "execution_count": 65,
   "metadata": {},
   "outputs": [],
   "source": [
    "\n",
    "from azure.ai.ml.entities import (\n",
    "    ManagedOnlineDeployment,\n",
    "    Environment,\n",
    "    CodeConfiguration\n",
    ")\n",
    "code_config = CodeConfiguration(\n",
    "    code=\".\",              # Folder containing score.py\n",
    "    scoring_script=\"score.py\"  # Your scoring script\n",
    ")\n",
    "\n",
    "# Step 3: Attach environment and code config to deployment\n",
    "blue_deployment = ManagedOnlineDeployment(\n",
    "    name=\"blue\",\n",
    "    endpoint_name=online_endpoint_name,\n",
    "    model=model,\n",
    "    environment=\"my-h2o-env-test:1\",\n",
    "    code_configuration=code_config,\n",
    "    instance_type=\"Standard_E2s_v3\",\n",
    "    instance_count=1,\n",
    ")"
   ]
  },
  {
   "cell_type": "code",
   "execution_count": 66,
   "metadata": {},
   "outputs": [
    {
     "name": "stderr",
     "output_type": "stream",
     "text": [
      "Check: endpoint iat-shafi-f2eeefdd exists\n",
      "Uploading testiat (5.19 MBs):   0%|          | 7726/5193753 [00:00<01:19, 65131.88it/s]WARNING:urllib3.connectionpool:Connection pool is full, discarding connection: shafi22350753715.blob.core.windows.net. Connection pool size: 10\n",
      "Uploading testiat (5.19 MBs): 100%|██████████| 5193753/5193753 [00:01<00:00, 3915685.29it/s]\n",
      "\n",
      "\n"
     ]
    },
    {
     "name": "stdout",
     "output_type": "stream",
     "text": [
      "............................................................................................................Deployment state: Succeeded\n"
     ]
    }
   ],
   "source": [
    "# Create the deployment\n",
    "blue_deployment_results = ml_client.online_deployments.begin_create_or_update(\n",
    "    blue_deployment\n",
    ").result()\n",
    "\n",
    "print(f\"Deployment state: {blue_deployment_results.provisioning_state}\")"
   ]
  },
  {
   "cell_type": "code",
   "execution_count": 67,
   "metadata": {},
   "outputs": [],
   "source": [
    "deploy_dir = \"./deploy\"\n",
    "os.makedirs(deploy_dir, exist_ok=True)"
   ]
  },
  {
   "cell_type": "code",
   "execution_count": 68,
   "metadata": {},
   "outputs": [
    {
     "name": "stdout",
     "output_type": "stream",
     "text": [
      "Writing ./deploy/sample-request.json\n"
     ]
    }
   ],
   "source": [
    "%%writefile {deploy_dir}/sample-request.json\n",
    "{\n",
    "  \"data\": [\n",
    "    {\n",
    "      \"sepal_length\": 6.7,\n",
    "      \"sepal_width\": 3.1,\n",
    "      \"petal_length\": 4.7,\n",
    "      \"petal_width\": 1.5\n",
    "    }\n",
    "  ]\n",
    "}"
   ]
  },
  {
   "cell_type": "code",
   "execution_count": 69,
   "metadata": {},
   "outputs": [
    {
     "data": {
      "text/plain": [
       "'\"[{\\\\\"predict\\\\\":\\\\\"versicolor\\\\\",\\\\\"setosa\\\\\":0.001944083,\\\\\"versicolor\\\\\":0.9898267126,\\\\\"virginica\\\\\":0.0082292044}]\"'"
      ]
     },
     "execution_count": 69,
     "metadata": {},
     "output_type": "execute_result"
    }
   ],
   "source": [
    "# test the blue deployment with some sample data\n",
    "ml_client.online_endpoints.invoke(\n",
    "    endpoint_name=online_endpoint_name,\n",
    "    request_file=\"./deploy/sample-request.json\",\n",
    "    deployment_name=\"blue\",\n",
    ")"
   ]
  }
 ],
 "metadata": {
  "kernelspec": {
   "display_name": "h2o-mojo-env-v1",
   "language": "python",
   "name": "python3"
  },
  "language_info": {
   "codemirror_mode": {
    "name": "ipython",
    "version": 3
   },
   "file_extension": ".py",
   "mimetype": "text/x-python",
   "name": "python",
   "nbconvert_exporter": "python",
   "pygments_lexer": "ipython3",
   "version": "3.8.20"
  },
  "microsoft": {
   "ms_spell_check": {
    "ms_spell_check_language": "en"
   }
  },
  "nteract": {
   "version": "nteract-front-end@1.0.0"
  }
 },
 "nbformat": 4,
 "nbformat_minor": 2
}
